{
 "cells": [
  {
   "cell_type": "markdown",
   "id": "58f24fcd",
   "metadata": {
    "papermill": {
     "duration": 0.015023,
     "end_time": "2022-11-09T18:27:40.047512",
     "exception": false,
     "start_time": "2022-11-09T18:27:40.032489",
     "status": "completed"
    },
    "tags": []
   },
   "source": [
    "<h1>Import necessary libraries</h1>"
   ]
  },
  {
   "cell_type": "code",
   "execution_count": 1,
   "id": "37c4cc7c",
   "metadata": {
    "execution": {
     "iopub.execute_input": "2022-11-09T18:27:40.070013Z",
     "iopub.status.busy": "2022-11-09T18:27:40.069399Z",
     "iopub.status.idle": "2022-11-09T18:27:46.429297Z",
     "shell.execute_reply": "2022-11-09T18:27:46.428201Z"
    },
    "papermill": {
     "duration": 6.372873,
     "end_time": "2022-11-09T18:27:46.432344",
     "exception": false,
     "start_time": "2022-11-09T18:27:40.059471",
     "status": "completed"
    },
    "tags": []
   },
   "outputs": [],
   "source": [
    "import numpy as np\n",
    "import os\n",
    "from PIL import Image\n",
    "import matplotlib.pyplot as plt\n",
    "\n",
    "import tensorflow as tf\n",
    "from tensorflow import keras\n",
    "\n",
    "class save_images(keras.callbacks.Callback):\n",
    "    \"\"\"\n",
    "    This is a subclass of the keras.callbacks.Callback class.\n",
    "    On subclassing it we can specify methods which can be executed while training\n",
    "    \"\"\"\n",
    "\n",
    "    def __init__(self,noise,margin,num_rows,num_cols,**kwargs):\n",
    "        super(keras.callbacks.Callback,self).__init__(**kwargs)\n",
    "        self.noise = noise\n",
    "        self.margin = margin\n",
    "        self.num_rows = num_rows\n",
    "        self.num_cols = num_cols\n",
    "\n",
    "    # overwriting on_epoch_end() helps in executing a custom method when an epoch ends\n",
    "    def on_epoch_end(self, epoch, logs=None):\n",
    "        \"\"\"\n",
    "        Saves images generated from a fixed random vector by the generator to the disk \n",
    "        \n",
    "        Parameters:\n",
    "            noise: fixed noise vector from a normal distribution to be fed to the generator.\n",
    "            num_rows: number of rows of images\n",
    "            num_cols: number of columns of images\n",
    "            margin: margin between images\n",
    "            generator: keras model representing the generator network\n",
    "        \n",
    "        \"\"\"\n",
    "\n",
    "        # Generate a base array upon which images can then be added sequentially\n",
    "        image_array = np.full((\n",
    "            self.margin + (self.num_rows * (64 + self.margin)),\n",
    "            self.margin + (self.num_cols * (64 + self.margin)), 3),\n",
    "            255, dtype=np.uint8)\n",
    "\n",
    "        # Generate num_rows*num_cols number of images using the generator model\n",
    "        generated_images = self.model.generator.predict(self.noise)\n",
    "\n",
    "        # Convert pixel intensities to the range [0,1]\n",
    "        generated_images = 0.5 * generated_images + 0.5\n",
    "\n",
    "        #Images need not be converted into the typical [0,255] pixel intensity values because the PIL Image module accepts the range [0,1] \n",
    "\n",
    "\n",
    "        image_count = 0\n",
    "        for row in range(self.num_rows):\n",
    "            for col in range(self.num_cols):\n",
    "                r = row * (64 + 16) + self.margin\n",
    "                c = col * (64 + 16) + self.margin\n",
    "                image_array[r:r + 64, c:c + 64] = generated_images[image_count] * 255\n",
    "                image_count += 1\n",
    "\n",
    "        # The image array now contains all the images in an array format which can be stored to the disk\n",
    "\n",
    "        output_path = 'Epoch_images'\n",
    "        if not os.path.exists(output_path):\n",
    "            os.makedirs(output_path)\n",
    "\n",
    "        filename = os.path.join(output_path, f\"train-{epoch+1}.png\")\n",
    "        im = Image.fromarray(image_array)\n",
    "        im.save(filename)\n",
    "\n",
    "\n",
    "class checkpoint_callback(keras.callbacks.Callback):\n",
    "    \"\"\"\n",
    "    Subclass of keras.callbacks.Callback to save the weights every epoch in a .h5 file\n",
    "    \"\"\"\n",
    "    def __init__(self,**kwargs):\n",
    "        super(keras.callbacks.Callback, self).__init__(**kwargs)\n",
    "    def on_epoch_end(self, epoch, logs=None):\n",
    "        self.model.generator.save_weights(\"Weights/generator_weights-test.h5\")\n",
    "        self.model.discriminator.save_weights(\"Weights/discriminator_weights-test.h5\")"
   ]
  },
  {
   "cell_type": "code",
   "execution_count": 2,
   "id": "6347e7cf",
   "metadata": {
    "execution": {
     "iopub.execute_input": "2022-11-09T18:27:46.447361Z",
     "iopub.status.busy": "2022-11-09T18:27:46.446822Z",
     "iopub.status.idle": "2022-11-09T18:27:46.455523Z",
     "shell.execute_reply": "2022-11-09T18:27:46.454655Z"
    },
    "papermill": {
     "duration": 0.018324,
     "end_time": "2022-11-09T18:27:46.457556",
     "exception": false,
     "start_time": "2022-11-09T18:27:46.439232",
     "status": "completed"
    },
    "tags": []
   },
   "outputs": [],
   "source": [
    "import tensorflow as tf\n",
    "from tensorflow import keras\n",
    "from tensorflow.keras.layers import Input, Reshape, Dropout, Dense \n",
    "from tensorflow.keras.layers import Flatten, BatchNormalization\n",
    "from tensorflow.keras.layers import Activation\n",
    "from tensorflow.keras.layers import LeakyReLU , ReLU, PReLU\n",
    "from tensorflow.keras.layers import Conv2D ,Conv2DTranspose\n",
    "from tensorflow.keras.models import Sequential, Model, load_model\n",
    "from tensorflow.keras.optimizers import Adam\n",
    "import numpy as np\n",
    "from PIL import Image\n",
    "import os \n",
    "import matplotlib.pyplot as plt\n",
    "\n",
    "# import custom callbacks defined in 'utils/callbacks.py'\n",
    "# from utils.callbacks import save_images, checkpoint_callback "
   ]
  },
  {
   "cell_type": "code",
   "execution_count": 3,
   "id": "41e5687b",
   "metadata": {
    "execution": {
     "iopub.execute_input": "2022-11-09T18:27:46.471608Z",
     "iopub.status.busy": "2022-11-09T18:27:46.471339Z",
     "iopub.status.idle": "2022-11-09T18:27:46.476389Z",
     "shell.execute_reply": "2022-11-09T18:27:46.475434Z"
    },
    "papermill": {
     "duration": 0.015612,
     "end_time": "2022-11-09T18:27:46.479563",
     "exception": false,
     "start_time": "2022-11-09T18:27:46.463951",
     "status": "completed"
    },
    "tags": []
   },
   "outputs": [
    {
     "name": "stdout",
     "output_type": "stream",
     "text": [
      "hi\n"
     ]
    }
   ],
   "source": [
    "print(\"hi\")"
   ]
  },
  {
   "cell_type": "code",
   "execution_count": 4,
   "id": "4b24d93d",
   "metadata": {
    "execution": {
     "iopub.execute_input": "2022-11-09T18:27:46.495065Z",
     "iopub.status.busy": "2022-11-09T18:27:46.494249Z",
     "iopub.status.idle": "2022-11-09T18:27:46.773513Z",
     "shell.execute_reply": "2022-11-09T18:27:46.772208Z"
    },
    "papermill": {
     "duration": 0.289537,
     "end_time": "2022-11-09T18:27:46.776482",
     "exception": false,
     "start_time": "2022-11-09T18:27:46.486945",
     "status": "completed"
    },
    "tags": []
   },
   "outputs": [
    {
     "name": "stdout",
     "output_type": "stream",
     "text": [
      "using GPU\n"
     ]
    },
    {
     "name": "stderr",
     "output_type": "stream",
     "text": [
      "2022-11-09 18:27:46.617163: I tensorflow/stream_executor/cuda/cuda_gpu_executor.cc:937] successful NUMA node read from SysFS had negative value (-1), but there must be at least one NUMA node, so returning NUMA node zero\n",
      "2022-11-09 18:27:46.618113: I tensorflow/stream_executor/cuda/cuda_gpu_executor.cc:937] successful NUMA node read from SysFS had negative value (-1), but there must be at least one NUMA node, so returning NUMA node zero\n",
      "2022-11-09 18:27:46.760300: I tensorflow/stream_executor/cuda/cuda_gpu_executor.cc:937] successful NUMA node read from SysFS had negative value (-1), but there must be at least one NUMA node, so returning NUMA node zero\n",
      "2022-11-09 18:27:46.761251: I tensorflow/stream_executor/cuda/cuda_gpu_executor.cc:937] successful NUMA node read from SysFS had negative value (-1), but there must be at least one NUMA node, so returning NUMA node zero\n",
      "2022-11-09 18:27:46.762090: I tensorflow/stream_executor/cuda/cuda_gpu_executor.cc:937] successful NUMA node read from SysFS had negative value (-1), but there must be at least one NUMA node, so returning NUMA node zero\n",
      "2022-11-09 18:27:46.762895: I tensorflow/stream_executor/cuda/cuda_gpu_executor.cc:937] successful NUMA node read from SysFS had negative value (-1), but there must be at least one NUMA node, so returning NUMA node zero\n"
     ]
    }
   ],
   "source": [
    "# Configure tensorflow to only use the gpu (Run this only when you want to train on GPU)\n",
    "gpus = tf.config.experimental.list_physical_devices('GPU')\n",
    "if gpus:\n",
    "    try:\n",
    "        tf.config.experimental.set_visible_devices(gpus[0], 'GPU')\n",
    "        print(\"using GPU\")\n",
    "    except RuntimeError as e:\n",
    "        print(e)"
   ]
  },
  {
   "cell_type": "markdown",
   "id": "3a8a1ee8",
   "metadata": {
    "papermill": {
     "duration": 0.008226,
     "end_time": "2022-11-09T18:27:46.791648",
     "exception": false,
     "start_time": "2022-11-09T18:27:46.783422",
     "status": "completed"
    },
    "tags": []
   },
   "source": [
    "<h1>Load dataset</h1>"
   ]
  },
  {
   "cell_type": "markdown",
   "id": "b235bb50",
   "metadata": {
    "papermill": {
     "duration": 0.006292,
     "end_time": "2022-11-09T18:27:46.804460",
     "exception": false,
     "start_time": "2022-11-09T18:27:46.798168",
     "status": "completed"
    },
    "tags": []
   },
   "source": [
    "We will be using `image_dataset_from_directory` function from keras to load the dataset from the directory which returns a `tf.data.dataset`\n",
    "The dataset is then normalized to a range [-1,1] same as the tanh function"
   ]
  },
  {
   "cell_type": "code",
   "execution_count": 5,
   "id": "df6a423a",
   "metadata": {
    "execution": {
     "iopub.execute_input": "2022-11-09T18:27:46.819320Z",
     "iopub.status.busy": "2022-11-09T18:27:46.818237Z",
     "iopub.status.idle": "2022-11-09T18:27:46.823572Z",
     "shell.execute_reply": "2022-11-09T18:27:46.822681Z"
    },
    "papermill": {
     "duration": 0.014669,
     "end_time": "2022-11-09T18:27:46.825587",
     "exception": false,
     "start_time": "2022-11-09T18:27:46.810918",
     "status": "completed"
    },
    "tags": []
   },
   "outputs": [],
   "source": [
    "data_path = \"../input/animefacedataset/images\""
   ]
  },
  {
   "cell_type": "code",
   "execution_count": 6,
   "id": "f80df601",
   "metadata": {
    "execution": {
     "iopub.execute_input": "2022-11-09T18:27:46.841244Z",
     "iopub.status.busy": "2022-11-09T18:27:46.839565Z",
     "iopub.status.idle": "2022-11-09T18:28:26.062410Z",
     "shell.execute_reply": "2022-11-09T18:28:26.060194Z"
    },
    "papermill": {
     "duration": 39.232599,
     "end_time": "2022-11-09T18:28:26.064694",
     "exception": false,
     "start_time": "2022-11-09T18:27:46.832095",
     "status": "completed"
    },
    "tags": []
   },
   "outputs": [
    {
     "name": "stdout",
     "output_type": "stream",
     "text": [
      "Found 63565 files belonging to 1 classes.\n"
     ]
    },
    {
     "name": "stderr",
     "output_type": "stream",
     "text": [
      "2022-11-09 18:28:22.647927: I tensorflow/core/platform/cpu_feature_guard.cc:142] This TensorFlow binary is optimized with oneAPI Deep Neural Network Library (oneDNN) to use the following CPU instructions in performance-critical operations:  AVX2 AVX512F FMA\n",
      "To enable them in other operations, rebuild TensorFlow with the appropriate compiler flags.\n",
      "2022-11-09 18:28:22.648355: I tensorflow/stream_executor/cuda/cuda_gpu_executor.cc:937] successful NUMA node read from SysFS had negative value (-1), but there must be at least one NUMA node, so returning NUMA node zero\n",
      "2022-11-09 18:28:22.649227: I tensorflow/stream_executor/cuda/cuda_gpu_executor.cc:937] successful NUMA node read from SysFS had negative value (-1), but there must be at least one NUMA node, so returning NUMA node zero\n",
      "2022-11-09 18:28:22.650316: I tensorflow/stream_executor/cuda/cuda_gpu_executor.cc:937] successful NUMA node read from SysFS had negative value (-1), but there must be at least one NUMA node, so returning NUMA node zero\n",
      "2022-11-09 18:28:25.615066: I tensorflow/stream_executor/cuda/cuda_gpu_executor.cc:937] successful NUMA node read from SysFS had negative value (-1), but there must be at least one NUMA node, so returning NUMA node zero\n",
      "2022-11-09 18:28:25.615981: I tensorflow/stream_executor/cuda/cuda_gpu_executor.cc:937] successful NUMA node read from SysFS had negative value (-1), but there must be at least one NUMA node, so returning NUMA node zero\n",
      "2022-11-09 18:28:25.616777: I tensorflow/stream_executor/cuda/cuda_gpu_executor.cc:937] successful NUMA node read from SysFS had negative value (-1), but there must be at least one NUMA node, so returning NUMA node zero\n",
      "2022-11-09 18:28:25.617488: I tensorflow/core/common_runtime/gpu/gpu_device.cc:1510] Created device /job:localhost/replica:0/task:0/device:GPU:0 with 13789 MB memory:  -> device: 0, name: Tesla T4, pci bus id: 0000:00:04.0, compute capability: 7.5\n"
     ]
    }
   ],
   "source": [
    "train_ds = tf.keras.preprocessing.image_dataset_from_directory(\n",
    "    data_path, \n",
    "    label_mode=None, \n",
    "    color_mode='rgb',\n",
    "    batch_size=128,\n",
    "    image_size=(64, 64),\n",
    "    shuffle=True\n",
    ")\n",
    "\n",
    "train_ds = train_ds.map(lambda x: ((x/127.5)-1)) "
   ]
  },
  {
   "cell_type": "markdown",
   "id": "139b22c3",
   "metadata": {
    "papermill": {
     "duration": 0.006665,
     "end_time": "2022-11-09T18:28:26.078069",
     "exception": false,
     "start_time": "2022-11-09T18:28:26.071404",
     "status": "completed"
    },
    "tags": []
   },
   "source": [
    "<h1>Define Generator and Discriminator</h1>"
   ]
  },
  {
   "cell_type": "code",
   "execution_count": 7,
   "id": "e64db1f0",
   "metadata": {
    "execution": {
     "iopub.execute_input": "2022-11-09T18:28:26.092897Z",
     "iopub.status.busy": "2022-11-09T18:28:26.092174Z",
     "iopub.status.idle": "2022-11-09T18:28:26.097017Z",
     "shell.execute_reply": "2022-11-09T18:28:26.096116Z"
    },
    "papermill": {
     "duration": 0.014546,
     "end_time": "2022-11-09T18:28:26.099061",
     "exception": false,
     "start_time": "2022-11-09T18:28:26.084515",
     "status": "completed"
    },
    "tags": []
   },
   "outputs": [],
   "source": [
    "# Weights initializer\n",
    "init = tf.keras.initializers.RandomNormal(stddev=0.02)"
   ]
  },
  {
   "cell_type": "code",
   "execution_count": 8,
   "id": "a971d8ff",
   "metadata": {
    "execution": {
     "iopub.execute_input": "2022-11-09T18:28:26.112790Z",
     "iopub.status.busy": "2022-11-09T18:28:26.112517Z",
     "iopub.status.idle": "2022-11-09T18:28:26.121266Z",
     "shell.execute_reply": "2022-11-09T18:28:26.120193Z"
    },
    "papermill": {
     "duration": 0.018012,
     "end_time": "2022-11-09T18:28:26.123388",
     "exception": false,
     "start_time": "2022-11-09T18:28:26.105376",
     "status": "completed"
    },
    "tags": []
   },
   "outputs": [],
   "source": [
    "def build_generator(seed_size):\n",
    "    \"\"\"\n",
    "    Builds the generator model\n",
    "    \n",
    "    Parameters:\n",
    "        seed_size: size of the random vector fed into the generator\n",
    "    \n",
    "    Returns:\n",
    "        model: keras model representing the generator\n",
    "    \"\"\"\n",
    "    model = Sequential()\n",
    "  \n",
    "    # Block - 1\n",
    "    model.add(Dense(4*4*1024,kernel_initializer=init,input_dim=seed_size))\n",
    "    model.add(BatchNormalization())\n",
    "    model.add(ReLU())\n",
    "    model.add(Reshape((4,4,1024))) # Resulting shape = (4,4,1024) \n",
    "\n",
    "    # Block - 2\n",
    "    model.add(Conv2DTranspose(512,kernel_size=5,strides=2,padding='same',use_bias=False,kernel_initializer=init))\n",
    "    model.add(BatchNormalization())\n",
    "    model.add(ReLU())  # Resulting shape = (8,8,512)\n",
    "\n",
    "    # Block - 3\n",
    "    model.add(Conv2DTranspose(256,kernel_size=5,strides=2,padding='same',use_bias=False,kernel_initializer=init))\n",
    "    model.add(BatchNormalization())\n",
    "    model.add(ReLU()) # Resulting shape = (16,16,256)\n",
    "\n",
    "    # Block - 4\n",
    "    model.add(Conv2DTranspose(128,kernel_size=3,strides=2,padding='same',use_bias=False,kernel_initializer=init))\n",
    "    model.add(BatchNormalization())\n",
    "    model.add(ReLU()) # Resulting shape = (32,32,128)\n",
    "\n",
    "    # Block - 5\n",
    "    model.add(Conv2DTranspose(3,kernel_size=3,strides=2,padding='same',use_bias=False,kernel_initializer=init))\n",
    "    model.add(Activation('tanh')) # Resulting shape = (64,64,3)\n",
    "\n",
    "    return model"
   ]
  },
  {
   "cell_type": "code",
   "execution_count": 9,
   "id": "d524411d",
   "metadata": {
    "execution": {
     "iopub.execute_input": "2022-11-09T18:28:26.138133Z",
     "iopub.status.busy": "2022-11-09T18:28:26.137832Z",
     "iopub.status.idle": "2022-11-09T18:28:26.147325Z",
     "shell.execute_reply": "2022-11-09T18:28:26.146415Z"
    },
    "papermill": {
     "duration": 0.019118,
     "end_time": "2022-11-09T18:28:26.149423",
     "exception": false,
     "start_time": "2022-11-09T18:28:26.130305",
     "status": "completed"
    },
    "tags": []
   },
   "outputs": [],
   "source": [
    "def build_discriminator(image_length,image_channels):\n",
    "    \n",
    "    \"\"\"\n",
    "    Builds the generator model\n",
    "    \n",
    "    Parameters:\n",
    "        image_length: length of a side of the square image\n",
    "        image_channels: number of channels in the image\n",
    "    \n",
    "    Returns:\n",
    "        model: keras model representing the discriminator\n",
    "    \"\"\"\n",
    "    \n",
    "    model = Sequential()\n",
    "  \n",
    "    # Block - 1\n",
    "    model.add(Conv2D(64,kernel_size=3,strides=2,padding='same',use_bias=False,input_shape=(image_length,image_length,image_channels),kernel_initializer=init))\n",
    "    model.add(LeakyReLU(alpha=0.2)) # Resulting shape = (32,32,64)\n",
    "\n",
    "    # Block - 2\n",
    "    model.add(Conv2D(128,kernel_size=3,strides=2,padding='same',use_bias=False,kernel_initializer=init))\n",
    "    model.add(BatchNormalization())\n",
    "    model.add(LeakyReLU(alpha=0.2)) # Resulting shape = (16,16,128)\n",
    "\n",
    "    # Block - 3\n",
    "    model.add(Conv2D(256,kernel_size=5,strides=2,padding='same',use_bias=False,kernel_initializer=init))\n",
    "    model.add(BatchNormalization())\n",
    "    model.add(LeakyReLU(alpha=0.2)) # Resulting shape = (8,8,256)\n",
    "\n",
    "    # Block - 4\n",
    "    model.add(Conv2D(512,kernel_size=5,strides=2,padding='same',use_bias=False,kernel_initializer=init))\n",
    "    model.add(BatchNormalization())\n",
    "    model.add(LeakyReLU(alpha=0.2)) # Resulting shape = (4,4,512)\n",
    "\n",
    "    # Block - 5\n",
    "    model.add(Conv2D(1,kernel_size=4,strides=1,padding='valid',use_bias=False,kernel_initializer=init))\n",
    "    model.add(Flatten())\n",
    "    model.add(Activation('sigmoid'))\n",
    "\n",
    "    return model"
   ]
  },
  {
   "cell_type": "markdown",
   "id": "bdd84880",
   "metadata": {
    "papermill": {
     "duration": 0.006623,
     "end_time": "2022-11-09T18:28:26.162844",
     "exception": false,
     "start_time": "2022-11-09T18:28:26.156221",
     "status": "completed"
    },
    "tags": []
   },
   "source": [
    "<h1>Define Keras Model</h1>"
   ]
  },
  {
   "cell_type": "markdown",
   "id": "a3a00e7b",
   "metadata": {
    "papermill": {
     "duration": 0.006681,
     "end_time": "2022-11-09T18:28:26.176543",
     "exception": false,
     "start_time": "2022-11-09T18:28:26.169862",
     "status": "completed"
    },
    "tags": []
   },
   "source": [
    "As the DCGAN follows a different training step compared to normal feed forward neural networks we can define the training step by first sub-classing the `keras.Model` class and then overwrite the `train_step()` function. By doing so the `model.fit()` function follows our custom training step. This way we would not have to write explicit for-loop for the epochs and keras callbacks can also be used.  \n",
    "\n",
    "Since the generator and discriminator follow CNN architectures, they can be defined using keras `Sequential`. The backpropagation for the generator and discriminator are then taken care of by `tf.GradientTape()`"
   ]
  },
  {
   "cell_type": "markdown",
   "id": "6cb74626",
   "metadata": {
    "papermill": {
     "duration": 0.00643,
     "end_time": "2022-11-09T18:28:26.189634",
     "exception": false,
     "start_time": "2022-11-09T18:28:26.183204",
     "status": "completed"
    },
    "tags": []
   },
   "source": [
    "One-sided-label smoothing has been implemented (only for discriminator) to prevent the discriminator from overpowering the generator. Specifying this parameter changes the labels for real images from `1` to `(1-smooth)`. \n",
    "\n",
    "`smooth` parameter defined in the `discriminator_loss()` function takes care of this"
   ]
  },
  {
   "cell_type": "code",
   "execution_count": 10,
   "id": "6910f236",
   "metadata": {
    "execution": {
     "iopub.execute_input": "2022-11-09T18:28:26.204335Z",
     "iopub.status.busy": "2022-11-09T18:28:26.203457Z",
     "iopub.status.idle": "2022-11-09T18:28:26.208272Z",
     "shell.execute_reply": "2022-11-09T18:28:26.207440Z"
    },
    "papermill": {
     "duration": 0.014161,
     "end_time": "2022-11-09T18:28:26.210427",
     "exception": false,
     "start_time": "2022-11-09T18:28:26.196266",
     "status": "completed"
    },
    "tags": []
   },
   "outputs": [],
   "source": [
    "cross_entropy = tf.keras.losses.BinaryCrossentropy()"
   ]
  },
  {
   "cell_type": "code",
   "execution_count": 11,
   "id": "c5c21205",
   "metadata": {
    "execution": {
     "iopub.execute_input": "2022-11-09T18:28:26.225552Z",
     "iopub.status.busy": "2022-11-09T18:28:26.224751Z",
     "iopub.status.idle": "2022-11-09T18:28:26.239437Z",
     "shell.execute_reply": "2022-11-09T18:28:26.238489Z"
    },
    "papermill": {
     "duration": 0.024389,
     "end_time": "2022-11-09T18:28:26.241533",
     "exception": false,
     "start_time": "2022-11-09T18:28:26.217144",
     "status": "completed"
    },
    "tags": []
   },
   "outputs": [],
   "source": [
    "class DCGAN(keras.Model):\n",
    "    \"\"\"Subclass of the keras.Model class to define custom training step and loss functions\"\"\"\n",
    "    \n",
    "    \n",
    "    def __init__(self,seed_size,image_length,image_channels,**kwargs):\n",
    "        \"\"\"\n",
    "        Parameters:\n",
    "            seed_size: size of the random vector for the generator\n",
    "            image_length: length of a side of the square image\n",
    "            image_channels: number of channels in the image\n",
    "        \"\"\"\n",
    "        super(DCGAN,self).__init__(**kwargs)\n",
    "\n",
    "        self.generator = build_generator(seed_size)\n",
    "        self.discriminator = build_discriminator(image_length,image_channels)\n",
    "        self.seed_size = seed_size\n",
    "        \n",
    "        \n",
    "   # Train generator to give realistic images and penalize it for giving images being classified as fake by the discriminator     \n",
    "    def generator_loss(self,fake_output):\n",
    "        \"\"\"\n",
    "        Parameters:\n",
    "            fake_output: Tensor containing the respective discriminator's predictions for the batch of images produced\n",
    "            by generator (fake iamges).\n",
    "            \n",
    "        Returns:\n",
    "            cross entropy loss between labels for real images (1's) and the discriminator's estimate \n",
    "        \"\"\"\n",
    "        \n",
    "        # The objective is to penalize the generator whenever it produces images which the discriminator classifies as 'fake'\n",
    "        return cross_entropy(tf.ones_like(fake_output), fake_output)\n",
    "\n",
    "       \n",
    "        # smooth parameter is used to induce one sided label smoothing. It can be tuned accordingly\n",
    "    def discriminator_loss(self,real_output, fake_output,smooth=0.1):\n",
    "        \"\"\"\n",
    "        Parameters: \n",
    "            real_output: Tensor containing the respective discriminator's predictions for the batch of images taken from\n",
    "                        the dataset (real images).\n",
    "            fake_output: Tensor containing the respective discriminator's predictions for the batch of images produced\n",
    "                        by generator (fake images).\n",
    "        \n",
    "        Returns:\n",
    "            total_loss: Loss of the discriminator for misclassifying images\n",
    "        \"\"\"\n",
    "        # label for real image is (1-smooth)\n",
    "        real_loss = cross_entropy(tf.ones_like(real_output)*(1-smooth), real_output) \n",
    "        fake_loss = cross_entropy(tf.zeros_like(fake_output), fake_output)\n",
    "        total_loss = real_loss + fake_loss\n",
    "        return total_loss\n",
    "    \n",
    "    def compile(self,generator_optimizer,discriminator_optimizer):\n",
    "        \"\"\"\n",
    "        configures model for training by adding optimizers\n",
    "        \n",
    "        Parameters: \n",
    "            generator_optimizer: keras optimizer to be used to train generator.\n",
    "            discriminator_optimizer: keras optimizer to be used to train discriminator.\n",
    "        \"\"\"\n",
    "        super(DCGAN, self).compile()\n",
    "        self.generator_optimizer = generator_optimizer\n",
    "        self.discriminator_optimizer = discriminator_optimizer\n",
    "        \n",
    "    @tf.function    \n",
    "    def train_step(self,data):\n",
    "        \n",
    "        \"\"\"\n",
    "        Takes in training data and does a forward pass\n",
    "        \n",
    "        Parameters:\n",
    "            data: a batch from the training data.\n",
    "        Returns:\n",
    "            gen_loss: loss associated with the generator.\n",
    "            disc_loss: loss associated with the discriminator.\n",
    "            \n",
    "        \"\"\"\n",
    "            \n",
    "        batch_size = tf.shape(data)[0]\n",
    "        \n",
    "        # feed a random input to generator\n",
    "        seed = tf.random.normal(shape=(batch_size,self.seed_size))\n",
    "        \n",
    "        with tf.GradientTape() as gen_tape, tf.GradientTape() as disc_tape:\n",
    "            \n",
    "            # generate image using generator\n",
    "            generated_image = self.generator(seed, training = True)\n",
    "        \n",
    "            # discriminator's prediction for real image\n",
    "            real_output = self.discriminator(data,training = True)\n",
    "            \n",
    "            # discriminator's estimate for fake image\n",
    "            fake_output = self.discriminator(generated_image,training = True) \n",
    "            \n",
    "            # compute loss\n",
    "            gen_loss = self.generator_loss(fake_output)\n",
    "            disc_loss = self.discriminator_loss(real_output,fake_output)\n",
    "\n",
    "            # optimize generator first\n",
    "            generator_grad = gen_tape.gradient(gen_loss,self.generator.trainable_variables)\n",
    "            discriminator_grad = disc_tape.gradient(disc_loss,self.discriminator.trainable_variables)\n",
    "\n",
    "            # optimize discriminator after generator\n",
    "            self.generator_optimizer.apply_gradients(zip(generator_grad,self.generator.trainable_variables))\n",
    "            self.discriminator_optimizer.apply_gradients(zip(discriminator_grad,self.discriminator.trainable_variables))\n",
    "        \n",
    "        return {\n",
    "            \"generator loss\": gen_loss,\n",
    "            \"discriminator_loss\": disc_loss\n",
    "        }"
   ]
  },
  {
   "cell_type": "markdown",
   "id": "8b0f63ef",
   "metadata": {
    "papermill": {
     "duration": 0.006744,
     "end_time": "2022-11-09T18:28:26.254967",
     "exception": false,
     "start_time": "2022-11-09T18:28:26.248223",
     "status": "completed"
    },
    "tags": []
   },
   "source": [
    "While training, two custom callbacks `save_images` and `checkpoint_callback` which are defined in `utils/callbacks.py`.\n",
    "\n",
    "1. `save_images`: The callback saves images to the disk by the generator using a fixed random normal seed (`fixed_seed`). This way the progress of the generator can be monitored every epoch. It generates a grid of `NUM_ROWS` \\* `NUM_COLS` number of images with a margin set by `MARGIN`.  \n",
    "\n",
    "\n",
    "2. `checkpoint_callback`: This callback periodically saves the weights of the generator and discriminator every epoch. This is done to help saving the DCGAN's progress if training is stopped accidentally"
   ]
  },
  {
   "cell_type": "code",
   "execution_count": 12,
   "id": "af7a9d19",
   "metadata": {
    "execution": {
     "iopub.execute_input": "2022-11-09T18:28:26.270644Z",
     "iopub.status.busy": "2022-11-09T18:28:26.269683Z",
     "iopub.status.idle": "2022-11-09T18:28:26.286296Z",
     "shell.execute_reply": "2022-11-09T18:28:26.285375Z"
    },
    "papermill": {
     "duration": 0.026755,
     "end_time": "2022-11-09T18:28:26.288500",
     "exception": false,
     "start_time": "2022-11-09T18:28:26.261745",
     "status": "completed"
    },
    "tags": []
   },
   "outputs": [],
   "source": [
    "# parameters and hyperparameters\n",
    "image_length = 64\n",
    "image_channels = 3\n",
    "batch_size = 128\n",
    "seed_size = 128\n",
    "\n",
    "NUM_ROWS = 4  \n",
    "NUM_COLS = 7\n",
    "MARGIN = 16\n",
    "\n",
    "fixed_seed = tf.random.normal(shape=(NUM_ROWS * NUM_COLS, seed_size))\n",
    "# We are defining a fixed seed because we want to see the generator's images quality by generating the same images every epoch"
   ]
  },
  {
   "cell_type": "markdown",
   "id": "85c12f70",
   "metadata": {
    "papermill": {
     "duration": 0.006738,
     "end_time": "2022-11-09T18:28:26.302412",
     "exception": false,
     "start_time": "2022-11-09T18:28:26.295674",
     "status": "completed"
    },
    "tags": []
   },
   "source": [
    "### Initialize the DCGAN"
   ]
  },
  {
   "cell_type": "code",
   "execution_count": 13,
   "id": "c5bf2339",
   "metadata": {
    "execution": {
     "iopub.execute_input": "2022-11-09T18:28:26.317235Z",
     "iopub.status.busy": "2022-11-09T18:28:26.316520Z",
     "iopub.status.idle": "2022-11-09T18:28:26.678571Z",
     "shell.execute_reply": "2022-11-09T18:28:26.677609Z"
    },
    "papermill": {
     "duration": 0.37203,
     "end_time": "2022-11-09T18:28:26.681066",
     "exception": false,
     "start_time": "2022-11-09T18:28:26.309036",
     "status": "completed"
    },
    "tags": []
   },
   "outputs": [],
   "source": [
    "generator_optimizer = Adam(learning_rate=0.0002,beta_1=0.5)\n",
    "discriminator_optimizer = Adam(learning_rate=0.0002,beta_1=0.5)\n",
    "\n",
    "dcgan = DCGAN(seed_size,image_length,image_channels)\n",
    "dcgan.compile(generator_optimizer,discriminator_optimizer)"
   ]
  },
  {
   "cell_type": "code",
   "execution_count": 14,
   "id": "2c43c627",
   "metadata": {
    "execution": {
     "iopub.execute_input": "2022-11-09T18:28:26.696715Z",
     "iopub.status.busy": "2022-11-09T18:28:26.696387Z",
     "iopub.status.idle": "2022-11-09T18:28:26.701101Z",
     "shell.execute_reply": "2022-11-09T18:28:26.700006Z"
    },
    "papermill": {
     "duration": 0.014742,
     "end_time": "2022-11-09T18:28:26.703238",
     "exception": false,
     "start_time": "2022-11-09T18:28:26.688496",
     "status": "completed"
    },
    "tags": []
   },
   "outputs": [],
   "source": [
    "# dcgan.summary()"
   ]
  },
  {
   "cell_type": "markdown",
   "id": "be403b49",
   "metadata": {
    "papermill": {
     "duration": 0.006391,
     "end_time": "2022-11-09T18:28:26.716199",
     "exception": false,
     "start_time": "2022-11-09T18:28:26.709808",
     "status": "completed"
    },
    "tags": []
   },
   "source": [
    "<h1>Training</h1>"
   ]
  },
  {
   "cell_type": "code",
   "execution_count": 15,
   "id": "ef95e543",
   "metadata": {
    "execution": {
     "iopub.execute_input": "2022-11-09T18:28:26.730647Z",
     "iopub.status.busy": "2022-11-09T18:28:26.730073Z",
     "iopub.status.idle": "2022-11-09T20:38:14.500438Z",
     "shell.execute_reply": "2022-11-09T20:38:14.499097Z"
    },
    "papermill": {
     "duration": 7787.780804,
     "end_time": "2022-11-09T20:38:14.503458",
     "exception": false,
     "start_time": "2022-11-09T18:28:26.722654",
     "status": "completed"
    },
    "tags": []
   },
   "outputs": [
    {
     "name": "stderr",
     "output_type": "stream",
     "text": [
      "2022-11-09 18:28:26.777795: I tensorflow/compiler/mlir/mlir_graph_optimization_pass.cc:185] None of the MLIR Optimization Passes are enabled (registered 2)\n"
     ]
    },
    {
     "name": "stdout",
     "output_type": "stream",
     "text": [
      "Epoch 1/40\n"
     ]
    },
    {
     "name": "stderr",
     "output_type": "stream",
     "text": [
      "2022-11-09 18:28:33.846486: I tensorflow/stream_executor/cuda/cuda_dnn.cc:369] Loaded cuDNN version 8005\n"
     ]
    },
    {
     "name": "stdout",
     "output_type": "stream",
     "text": [
      "497/497 [==============================] - 197s 363ms/step - generator loss: 3.8744 - discriminator_loss: 1.1611\n",
      "Epoch 2/40\n",
      "497/497 [==============================] - 178s 358ms/step - generator loss: 2.0950 - discriminator_loss: 1.0300\n",
      "Epoch 3/40\n",
      "497/497 [==============================] - 178s 358ms/step - generator loss: 2.0091 - discriminator_loss: 1.0008\n",
      "Epoch 4/40\n",
      "497/497 [==============================] - 179s 359ms/step - generator loss: 2.1029 - discriminator_loss: 0.8971\n",
      "Epoch 5/40\n",
      "497/497 [==============================] - 179s 358ms/step - generator loss: 2.3495 - discriminator_loss: 0.8371\n",
      "Epoch 6/40\n",
      "497/497 [==============================] - 179s 359ms/step - generator loss: 2.3919 - discriminator_loss: 0.8360\n",
      "Epoch 7/40\n",
      "497/497 [==============================] - 179s 358ms/step - generator loss: 2.4139 - discriminator_loss: 0.8037\n",
      "Epoch 8/40\n",
      "497/497 [==============================] - 178s 357ms/step - generator loss: 2.4951 - discriminator_loss: 0.7791\n",
      "Epoch 9/40\n",
      "497/497 [==============================] - 179s 359ms/step - generator loss: 2.5736 - discriminator_loss: 0.7732\n",
      "Epoch 10/40\n",
      "497/497 [==============================] - 178s 357ms/step - generator loss: 2.5805 - discriminator_loss: 0.7334\n",
      "Epoch 11/40\n",
      "497/497 [==============================] - 179s 358ms/step - generator loss: 2.6905 - discriminator_loss: 0.7300\n",
      "Epoch 12/40\n",
      "497/497 [==============================] - 178s 357ms/step - generator loss: 2.6440 - discriminator_loss: 0.7443\n",
      "Epoch 13/40\n",
      "497/497 [==============================] - 178s 357ms/step - generator loss: 2.6621 - discriminator_loss: 0.7206\n",
      "Epoch 14/40\n",
      "497/497 [==============================] - 178s 358ms/step - generator loss: 2.7083 - discriminator_loss: 0.7040\n",
      "Epoch 15/40\n",
      "497/497 [==============================] - 178s 356ms/step - generator loss: 2.7169 - discriminator_loss: 0.7309\n",
      "Epoch 16/40\n",
      "497/497 [==============================] - 178s 357ms/step - generator loss: 2.7150 - discriminator_loss: 0.7031\n",
      "Epoch 17/40\n",
      "497/497 [==============================] - 179s 358ms/step - generator loss: 2.8174 - discriminator_loss: 0.6921\n",
      "Epoch 18/40\n",
      "497/497 [==============================] - 179s 358ms/step - generator loss: 2.8921 - discriminator_loss: 0.6483\n",
      "Epoch 19/40\n",
      "497/497 [==============================] - 179s 358ms/step - generator loss: 2.8534 - discriminator_loss: 0.7041\n",
      "Epoch 20/40\n",
      "497/497 [==============================] - 178s 356ms/step - generator loss: 2.9898 - discriminator_loss: 0.6271\n",
      "Epoch 21/40\n",
      "497/497 [==============================] - 178s 357ms/step - generator loss: 3.0079 - discriminator_loss: 0.6419\n",
      "Epoch 22/40\n",
      "497/497 [==============================] - 178s 357ms/step - generator loss: 3.0843 - discriminator_loss: 0.6098\n",
      "Epoch 23/40\n",
      "497/497 [==============================] - 178s 356ms/step - generator loss: 3.0842 - discriminator_loss: 0.6466\n",
      "Epoch 24/40\n",
      "497/497 [==============================] - 177s 356ms/step - generator loss: 3.1584 - discriminator_loss: 0.6087\n",
      "Epoch 25/40\n",
      "497/497 [==============================] - 178s 358ms/step - generator loss: 3.1582 - discriminator_loss: 0.6016\n",
      "Epoch 26/40\n",
      "497/497 [==============================] - 177s 356ms/step - generator loss: 3.2665 - discriminator_loss: 0.6014\n",
      "Epoch 27/40\n",
      "497/497 [==============================] - 178s 357ms/step - generator loss: 3.2079 - discriminator_loss: 0.5732\n",
      "Epoch 28/40\n",
      "497/497 [==============================] - 178s 357ms/step - generator loss: 3.0618 - discriminator_loss: 0.6607\n",
      "Epoch 29/40\n",
      "497/497 [==============================] - 178s 357ms/step - generator loss: 3.2188 - discriminator_loss: 0.5818\n",
      "Epoch 30/40\n",
      "497/497 [==============================] - 178s 357ms/step - generator loss: 3.3301 - discriminator_loss: 0.5919\n",
      "Epoch 31/40\n",
      "497/497 [==============================] - 178s 357ms/step - generator loss: 3.2413 - discriminator_loss: 0.5666\n",
      "Epoch 32/40\n",
      "497/497 [==============================] - 178s 357ms/step - generator loss: 3.3282 - discriminator_loss: 0.5998\n",
      "Epoch 33/40\n",
      "497/497 [==============================] - 178s 357ms/step - generator loss: 3.3614 - discriminator_loss: 0.5562\n",
      "Epoch 34/40\n",
      "497/497 [==============================] - 178s 357ms/step - generator loss: 3.3772 - discriminator_loss: 0.5545\n",
      "Epoch 35/40\n",
      "497/497 [==============================] - 178s 357ms/step - generator loss: 3.4125 - discriminator_loss: 0.5549\n",
      "Epoch 36/40\n",
      "497/497 [==============================] - 178s 357ms/step - generator loss: 3.3668 - discriminator_loss: 0.6045\n",
      "Epoch 37/40\n",
      "497/497 [==============================] - 178s 357ms/step - generator loss: 3.3835 - discriminator_loss: 0.5449\n",
      "Epoch 38/40\n",
      "497/497 [==============================] - 178s 357ms/step - generator loss: 3.3552 - discriminator_loss: 0.5637\n",
      "Epoch 39/40\n",
      "497/497 [==============================] - 177s 355ms/step - generator loss: 3.3481 - discriminator_loss: 0.6077\n",
      "Epoch 40/40\n",
      "497/497 [==============================] - 177s 355ms/step - generator loss: 3.3617 - discriminator_loss: 0.5611\n"
     ]
    }
   ],
   "source": [
    "with tf.device('/GPU:0'):\n",
    "    \n",
    "    #uncomment the next two lines if not training from scratch\n",
    "    #dcgan.generator.load_weights(\"Weights/generator_weights.h5\")\n",
    "    #dcgan.discriminator.load_weights(\"Weights/discriminator_weights.h5\")\n",
    "    \n",
    "    history = dcgan.fit(train_ds,epochs=40,batch_size=batch_size)"
   ]
  },
  {
   "cell_type": "code",
   "execution_count": 16,
   "id": "a91ea238",
   "metadata": {
    "execution": {
     "iopub.execute_input": "2022-11-09T20:38:16.763524Z",
     "iopub.status.busy": "2022-11-09T20:38:16.763162Z",
     "iopub.status.idle": "2022-11-09T20:38:16.767733Z",
     "shell.execute_reply": "2022-11-09T20:38:16.766806Z"
    },
    "papermill": {
     "duration": 1.043852,
     "end_time": "2022-11-09T20:38:16.769914",
     "exception": false,
     "start_time": "2022-11-09T20:38:15.726062",
     "status": "completed"
    },
    "tags": []
   },
   "outputs": [],
   "source": [
    "# dcgan.summary()"
   ]
  },
  {
   "cell_type": "markdown",
   "id": "9ab718e2",
   "metadata": {
    "papermill": {
     "duration": 1.026358,
     "end_time": "2022-11-09T20:38:18.883270",
     "exception": false,
     "start_time": "2022-11-09T20:38:17.856912",
     "status": "completed"
    },
    "tags": []
   },
   "source": [
    "<h1>Testing</h1>"
   ]
  },
  {
   "cell_type": "code",
   "execution_count": 17,
   "id": "c6914a85",
   "metadata": {
    "execution": {
     "iopub.execute_input": "2022-11-09T20:38:21.188676Z",
     "iopub.status.busy": "2022-11-09T20:38:21.188007Z",
     "iopub.status.idle": "2022-11-09T20:38:21.481474Z",
     "shell.execute_reply": "2022-11-09T20:38:21.479869Z"
    },
    "papermill": {
     "duration": 1.498153,
     "end_time": "2022-11-09T20:38:21.483603",
     "exception": true,
     "start_time": "2022-11-09T20:38:19.985450",
     "status": "failed"
    },
    "tags": []
   },
   "outputs": [
    {
     "ename": "FileNotFoundError",
     "evalue": "[Errno 2] Unable to open file (unable to open file: name = 'Weights/generator_weights.h5', errno = 2, error message = 'No such file or directory', flags = 0, o_flags = 0)",
     "output_type": "error",
     "traceback": [
      "\u001b[0;31m---------------------------------------------------------------------------\u001b[0m",
      "\u001b[0;31mFileNotFoundError\u001b[0m                         Traceback (most recent call last)",
      "\u001b[0;32m/tmp/ipykernel_23/700585188.py\u001b[0m in \u001b[0;36m<module>\u001b[0;34m\u001b[0m\n\u001b[0;32m----> 1\u001b[0;31m \u001b[0mdcgan\u001b[0m\u001b[0;34m.\u001b[0m\u001b[0mgenerator\u001b[0m\u001b[0;34m.\u001b[0m\u001b[0mload_weights\u001b[0m\u001b[0;34m(\u001b[0m\u001b[0;34m\"Weights/generator_weights.h5\"\u001b[0m\u001b[0;34m)\u001b[0m\u001b[0;34m\u001b[0m\u001b[0;34m\u001b[0m\u001b[0m\n\u001b[0m\u001b[1;32m      2\u001b[0m \u001b[0mdcgan\u001b[0m\u001b[0;34m.\u001b[0m\u001b[0mdiscriminator\u001b[0m\u001b[0;34m.\u001b[0m\u001b[0mload_weights\u001b[0m\u001b[0;34m(\u001b[0m\u001b[0;34m\"Weights/discriminator_weights.h5\"\u001b[0m\u001b[0;34m)\u001b[0m\u001b[0;34m\u001b[0m\u001b[0;34m\u001b[0m\u001b[0m\n\u001b[1;32m      3\u001b[0m \u001b[0;34m+\u001b[0m\u001b[0;36m333333333333333333333333\u001b[0m\u001b[0;34m\u001b[0m\u001b[0;34m\u001b[0m\u001b[0m\n\u001b[1;32m      4\u001b[0m \u001b[0;34m\u001b[0m\u001b[0m\n\u001b[1;32m      5\u001b[0m \u001b[0;34m\u001b[0m\u001b[0m\n",
      "\u001b[0;32m/opt/conda/lib/python3.7/site-packages/keras/engine/training.py\u001b[0m in \u001b[0;36mload_weights\u001b[0;34m(self, filepath, by_name, skip_mismatch, options)\u001b[0m\n\u001b[1;32m   2352\u001b[0m             'first, then load the weights.')\n\u001b[1;32m   2353\u001b[0m       \u001b[0mself\u001b[0m\u001b[0;34m.\u001b[0m\u001b[0m_assert_weights_created\u001b[0m\u001b[0;34m(\u001b[0m\u001b[0;34m)\u001b[0m\u001b[0;34m\u001b[0m\u001b[0;34m\u001b[0m\u001b[0m\n\u001b[0;32m-> 2354\u001b[0;31m       \u001b[0;32mwith\u001b[0m \u001b[0mh5py\u001b[0m\u001b[0;34m.\u001b[0m\u001b[0mFile\u001b[0m\u001b[0;34m(\u001b[0m\u001b[0mfilepath\u001b[0m\u001b[0;34m,\u001b[0m \u001b[0;34m'r'\u001b[0m\u001b[0;34m)\u001b[0m \u001b[0;32mas\u001b[0m \u001b[0mf\u001b[0m\u001b[0;34m:\u001b[0m\u001b[0;34m\u001b[0m\u001b[0;34m\u001b[0m\u001b[0m\n\u001b[0m\u001b[1;32m   2355\u001b[0m         \u001b[0;32mif\u001b[0m \u001b[0;34m'layer_names'\u001b[0m \u001b[0;32mnot\u001b[0m \u001b[0;32min\u001b[0m \u001b[0mf\u001b[0m\u001b[0;34m.\u001b[0m\u001b[0mattrs\u001b[0m \u001b[0;32mand\u001b[0m \u001b[0;34m'model_weights'\u001b[0m \u001b[0;32min\u001b[0m \u001b[0mf\u001b[0m\u001b[0;34m:\u001b[0m\u001b[0;34m\u001b[0m\u001b[0;34m\u001b[0m\u001b[0m\n\u001b[1;32m   2356\u001b[0m           \u001b[0mf\u001b[0m \u001b[0;34m=\u001b[0m \u001b[0mf\u001b[0m\u001b[0;34m[\u001b[0m\u001b[0;34m'model_weights'\u001b[0m\u001b[0;34m]\u001b[0m\u001b[0;34m\u001b[0m\u001b[0;34m\u001b[0m\u001b[0m\n",
      "\u001b[0;32m/opt/conda/lib/python3.7/site-packages/h5py/_hl/files.py\u001b[0m in \u001b[0;36m__init__\u001b[0;34m(self, name, mode, driver, libver, userblock_size, swmr, rdcc_nslots, rdcc_nbytes, rdcc_w0, track_order, fs_strategy, fs_persist, fs_threshold, fs_page_size, page_buf_size, min_meta_keep, min_raw_keep, locking, alignment_threshold, alignment_interval, **kwds)\u001b[0m\n\u001b[1;32m    531\u001b[0m                                  \u001b[0mfs_persist\u001b[0m\u001b[0;34m=\u001b[0m\u001b[0mfs_persist\u001b[0m\u001b[0;34m,\u001b[0m \u001b[0mfs_threshold\u001b[0m\u001b[0;34m=\u001b[0m\u001b[0mfs_threshold\u001b[0m\u001b[0;34m,\u001b[0m\u001b[0;34m\u001b[0m\u001b[0;34m\u001b[0m\u001b[0m\n\u001b[1;32m    532\u001b[0m                                  fs_page_size=fs_page_size)\n\u001b[0;32m--> 533\u001b[0;31m                 \u001b[0mfid\u001b[0m \u001b[0;34m=\u001b[0m \u001b[0mmake_fid\u001b[0m\u001b[0;34m(\u001b[0m\u001b[0mname\u001b[0m\u001b[0;34m,\u001b[0m \u001b[0mmode\u001b[0m\u001b[0;34m,\u001b[0m \u001b[0muserblock_size\u001b[0m\u001b[0;34m,\u001b[0m \u001b[0mfapl\u001b[0m\u001b[0;34m,\u001b[0m \u001b[0mfcpl\u001b[0m\u001b[0;34m,\u001b[0m \u001b[0mswmr\u001b[0m\u001b[0;34m=\u001b[0m\u001b[0mswmr\u001b[0m\u001b[0;34m)\u001b[0m\u001b[0;34m\u001b[0m\u001b[0;34m\u001b[0m\u001b[0m\n\u001b[0m\u001b[1;32m    534\u001b[0m \u001b[0;34m\u001b[0m\u001b[0m\n\u001b[1;32m    535\u001b[0m             \u001b[0;32mif\u001b[0m \u001b[0misinstance\u001b[0m\u001b[0;34m(\u001b[0m\u001b[0mlibver\u001b[0m\u001b[0;34m,\u001b[0m \u001b[0mtuple\u001b[0m\u001b[0;34m)\u001b[0m\u001b[0;34m:\u001b[0m\u001b[0;34m\u001b[0m\u001b[0;34m\u001b[0m\u001b[0m\n",
      "\u001b[0;32m/opt/conda/lib/python3.7/site-packages/h5py/_hl/files.py\u001b[0m in \u001b[0;36mmake_fid\u001b[0;34m(name, mode, userblock_size, fapl, fcpl, swmr)\u001b[0m\n\u001b[1;32m    224\u001b[0m         \u001b[0;32mif\u001b[0m \u001b[0mswmr\u001b[0m \u001b[0;32mand\u001b[0m \u001b[0mswmr_support\u001b[0m\u001b[0;34m:\u001b[0m\u001b[0;34m\u001b[0m\u001b[0;34m\u001b[0m\u001b[0m\n\u001b[1;32m    225\u001b[0m             \u001b[0mflags\u001b[0m \u001b[0;34m|=\u001b[0m \u001b[0mh5f\u001b[0m\u001b[0;34m.\u001b[0m\u001b[0mACC_SWMR_READ\u001b[0m\u001b[0;34m\u001b[0m\u001b[0;34m\u001b[0m\u001b[0m\n\u001b[0;32m--> 226\u001b[0;31m         \u001b[0mfid\u001b[0m \u001b[0;34m=\u001b[0m \u001b[0mh5f\u001b[0m\u001b[0;34m.\u001b[0m\u001b[0mopen\u001b[0m\u001b[0;34m(\u001b[0m\u001b[0mname\u001b[0m\u001b[0;34m,\u001b[0m \u001b[0mflags\u001b[0m\u001b[0;34m,\u001b[0m \u001b[0mfapl\u001b[0m\u001b[0;34m=\u001b[0m\u001b[0mfapl\u001b[0m\u001b[0;34m)\u001b[0m\u001b[0;34m\u001b[0m\u001b[0;34m\u001b[0m\u001b[0m\n\u001b[0m\u001b[1;32m    227\u001b[0m     \u001b[0;32melif\u001b[0m \u001b[0mmode\u001b[0m \u001b[0;34m==\u001b[0m \u001b[0;34m'r+'\u001b[0m\u001b[0;34m:\u001b[0m\u001b[0;34m\u001b[0m\u001b[0;34m\u001b[0m\u001b[0m\n\u001b[1;32m    228\u001b[0m         \u001b[0mfid\u001b[0m \u001b[0;34m=\u001b[0m \u001b[0mh5f\u001b[0m\u001b[0;34m.\u001b[0m\u001b[0mopen\u001b[0m\u001b[0;34m(\u001b[0m\u001b[0mname\u001b[0m\u001b[0;34m,\u001b[0m \u001b[0mh5f\u001b[0m\u001b[0;34m.\u001b[0m\u001b[0mACC_RDWR\u001b[0m\u001b[0;34m,\u001b[0m \u001b[0mfapl\u001b[0m\u001b[0;34m=\u001b[0m\u001b[0mfapl\u001b[0m\u001b[0;34m)\u001b[0m\u001b[0;34m\u001b[0m\u001b[0;34m\u001b[0m\u001b[0m\n",
      "\u001b[0;32mh5py/_objects.pyx\u001b[0m in \u001b[0;36mh5py._objects.with_phil.wrapper\u001b[0;34m()\u001b[0m\n",
      "\u001b[0;32mh5py/_objects.pyx\u001b[0m in \u001b[0;36mh5py._objects.with_phil.wrapper\u001b[0;34m()\u001b[0m\n",
      "\u001b[0;32mh5py/h5f.pyx\u001b[0m in \u001b[0;36mh5py.h5f.open\u001b[0;34m()\u001b[0m\n",
      "\u001b[0;31mFileNotFoundError\u001b[0m: [Errno 2] Unable to open file (unable to open file: name = 'Weights/generator_weights.h5', errno = 2, error message = 'No such file or directory', flags = 0, o_flags = 0)"
     ]
    }
   ],
   "source": [
    "dcgan.generator.load_weights(\"Weights/generator_weights.h5\")\n",
    "dcgan.discriminator.load_weights(\"Weights/discriminator_weights.h5\")\n",
    "+333333333333333333333333\n",
    "\n",
    "\n",
    "\n",
    "\n",
    "\n",
    "\n",
    "\n",
    "\n",
    "\n",
    "\n",
    "\n",
    "\n",
    "\n"
   ]
  },
  {
   "cell_type": "code",
   "execution_count": null,
   "id": "c97fd830",
   "metadata": {
    "execution": {
     "iopub.execute_input": "2022-11-09T18:22:53.967731Z",
     "iopub.status.busy": "2022-11-09T18:22:53.967297Z",
     "iopub.status.idle": "2022-11-09T18:22:53.980124Z",
     "shell.execute_reply": "2022-11-09T18:22:53.978858Z",
     "shell.execute_reply.started": "2022-11-09T18:22:53.967693Z"
    },
    "papermill": {
     "duration": null,
     "end_time": null,
     "exception": null,
     "start_time": null,
     "status": "pending"
    },
    "tags": []
   },
   "outputs": [],
   "source": [
    "noise = tf.random.normal([64,seed_size])\n",
    "noise"
   ]
  },
  {
   "cell_type": "code",
   "execution_count": null,
   "id": "d4c55506",
   "metadata": {
    "execution": {
     "iopub.execute_input": "2022-11-09T18:25:56.145850Z",
     "iopub.status.busy": "2022-11-09T18:25:56.145444Z",
     "iopub.status.idle": "2022-11-09T18:25:56.672203Z",
     "shell.execute_reply": "2022-11-09T18:25:56.669197Z",
     "shell.execute_reply.started": "2022-11-09T18:25:56.145815Z"
    },
    "papermill": {
     "duration": null,
     "end_time": null,
     "exception": null,
     "start_time": null,
     "status": "pending"
    },
    "tags": []
   },
   "outputs": [],
   "source": [
    "plt.imshow(noise)"
   ]
  },
  {
   "cell_type": "code",
   "execution_count": null,
   "id": "4853055b",
   "metadata": {
    "execution": {
     "iopub.execute_input": "2022-11-09T18:22:57.977165Z",
     "iopub.status.busy": "2022-11-09T18:22:57.976467Z",
     "iopub.status.idle": "2022-11-09T18:22:57.983856Z",
     "shell.execute_reply": "2022-11-09T18:22:57.982606Z",
     "shell.execute_reply.started": "2022-11-09T18:22:57.977127Z"
    },
    "papermill": {
     "duration": null,
     "end_time": null,
     "exception": null,
     "start_time": null,
     "status": "pending"
    },
    "tags": []
   },
   "outputs": [],
   "source": [
    "def generate_faces():\n",
    "    \"\"\"Generates random Anime faces\"\"\"\n",
    "    \n",
    "    # generate 64 images by giving 64 inputs\n",
    "    noise = tf.random.normal([64,seed_size])\n",
    "    generated_images = dcgan.generator(noise)\n",
    "\n",
    "    fig = plt.figure(figsize=(12,12))\n",
    "    for i in range(generated_images.shape[0]):\n",
    "        plt.subplot(8,8,i+1)\n",
    "        # Convert to range [0,1] for plt.imshow()\n",
    "        plt.imshow((generated_images[i,:,:,:]*0.5+0.5))\n",
    "        plt.axis(\"off\")\n",
    "    plt.show()"
   ]
  },
  {
   "cell_type": "code",
   "execution_count": null,
   "id": "1aac63b0",
   "metadata": {
    "execution": {
     "iopub.execute_input": "2022-11-09T18:23:02.876665Z",
     "iopub.status.busy": "2022-11-09T18:23:02.876272Z",
     "iopub.status.idle": "2022-11-09T18:23:05.746156Z",
     "shell.execute_reply": "2022-11-09T18:23:05.744791Z",
     "shell.execute_reply.started": "2022-11-09T18:23:02.876611Z"
    },
    "papermill": {
     "duration": null,
     "end_time": null,
     "exception": null,
     "start_time": null,
     "status": "pending"
    },
    "tags": []
   },
   "outputs": [],
   "source": [
    "generate_faces()"
   ]
  }
 ],
 "metadata": {
  "kernelspec": {
   "display_name": "Python 3",
   "language": "python",
   "name": "python3"
  },
  "language_info": {
   "codemirror_mode": {
    "name": "ipython",
    "version": 3
   },
   "file_extension": ".py",
   "mimetype": "text/x-python",
   "name": "python",
   "nbconvert_exporter": "python",
   "pygments_lexer": "ipython3",
   "version": "3.7.12"
  },
  "papermill": {
   "default_parameters": {},
   "duration": 7854.294863,
   "end_time": "2022-11-09T20:38:25.769905",
   "environment_variables": {},
   "exception": true,
   "input_path": "__notebook__.ipynb",
   "output_path": "__notebook__.ipynb",
   "parameters": {},
   "start_time": "2022-11-09T18:27:31.475042",
   "version": "2.3.4"
  }
 },
 "nbformat": 4,
 "nbformat_minor": 5
}
